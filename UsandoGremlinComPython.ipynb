{
 "cells": [
  {
   "cell_type": "markdown",
   "metadata": {},
   "source": [
    "# Cutucando os dados com Gremlin em Python"
   ]
  },
  {
   "cell_type": "markdown",
   "metadata": {},
   "source": [
    "Primeiro importamos todas as paradas que vamos precisar daqui pra frente."
   ]
  },
  {
   "cell_type": "code",
   "execution_count": 1,
   "metadata": {},
   "outputs": [],
   "source": [
    "from gremlin_python.structure.graph import Graph\n",
    "from gremlin_python.driver.driver_remote_connection import DriverRemoteConnection\n",
    "from gremlin_python.process.graph_traversal import __\n",
    "from gremlin_python.process.traversal import P\n",
    "from gremlin_python.process.traversal import T\n",
    "from gremlin_python.process.traversal import Order"
   ]
  },
  {
   "cell_type": "markdown",
   "metadata": {},
   "source": [
    "O nosso banco de dados precisa estar rodando em outro processo. Pode ser no nosso computador ou remoto, mas tem que estar em algum lugar. Se garantindo que está rodando local, vamos nos conectar a partir do código Python."
   ]
  },
  {
   "cell_type": "code",
   "execution_count": 2,
   "metadata": {},
   "outputs": [],
   "source": [
    "g = Graph().traversal().withRemote(\n",
    "    DriverRemoteConnection('ws://localhost:8182/gremlin','g'))"
   ]
  },
  {
   "cell_type": "markdown",
   "metadata": {},
   "source": [
    "Nesse momento a gente já sabe que tá de boas. Temos uma variável que é uma instância de uma origem de transversais da linguagem Gremlin. Com essa bixinha \"g\" qualquer transversal de consulta pode ser construída. Agora é que a brincadeira começa."
   ]
  },
  {
   "cell_type": "markdown",
   "metadata": {},
   "source": [
    "Primeiro precisamos criar uns dados pra consultar. Vamos adicionar dados ao banco."
   ]
  },
  {
   "cell_type": "code",
   "execution_count": 3,
   "metadata": {},
   "outputs": [
    {
     "data": {
      "text/plain": [
       "[['addV', 'person'], ['property', 'name', 'Betina'], ['as', 'betina'], ['addV', 'person'], ['property', 'name', 'Fernanda'], ['as', 'fernanda'], ['addV', 'person'], ['property', 'name', 'Gustavo'], ['as', 'gustavo'], ['addV', 'person'], ['property', 'name', 'Daniel'], ['as', 'daniel'], ['addV', 'person'], ['property', 'name', 'Joana'], ['as', 'joana'], ['addV', 'person'], ['property', 'name', 'Marcos'], ['as', 'marcos'], ['addV', 'attraction'], ['property', 'title', 'Galo'], ['property', 'location', 'Recife'], ['as', 'galo'], ['addV', 'attraction'], ['property', 'title', 'Recife Antigo'], ['property', 'location', 'Recife'], ['as', 'antigo'], ['addV', 'attraction'], ['property', 'title', 'A Vaidosa'], ['property', 'location', 'Olinda'], ['as', 'vaidosa'], ['addV', 'attraction'], ['property', 'title', 'Bloco Acorda'], ['property', 'location', 'Bezerros'], ['as', 'bezerros'], ['addE', 'goes_to'], ['from', 'betina'], ['to', 'galo'], ['addE', 'goes_to'], ['from', 'betina'], ['to', 'antigo'], ['addE', 'goes_to'], ['from', 'marcos'], ['to', 'galo'], ['addE', 'goes_to'], ['from', 'marcos'], ['to', 'bezerros'], ['addE', 'goes_to'], ['from', 'fernanda'], ['to', 'galo'], ['addE', 'goes_to'], ['from', 'fernanda'], ['to', 'vaidosa'], ['addE', 'goes_to'], ['from', 'gustavo'], ['to', 'galo'], ['addE', 'goes_to'], ['from', 'daniel'], ['to', 'galo'], ['addE', 'goes_to'], ['from', 'joana'], ['to', 'bezerros'], ['addE', 'goes_to'], ['from', 'gustavo'], ['to', 'bezerros'], ['addE', 'knows'], ['from', 'joana'], ['to', 'betina'], ['addE', 'knows'], ['from', 'betina'], ['to', 'marcos'], ['addE', 'knows'], ['from', 'betina'], ['to', 'fernanda'], ['addE', 'knows'], ['from', 'gustavo'], ['to', 'joana'], ['addE', 'knows'], ['from', 'marcos'], ['to', 'gustavo'], ['addE', 'knows'], ['from', 'daniel'], ['to', 'marcos'], ['addE', 'knows'], ['from', 'daniel'], ['to', 'betina'], ['values', '_ipython_canary_method_should_not_exist_'], ['values', '_ipython_canary_method_should_not_exist_']]"
      ]
     },
     "execution_count": 3,
     "metadata": {},
     "output_type": "execute_result"
    }
   ],
   "source": [
    "g.addV(\"person\").property(\"name\", \"Betina\").as_(\"betina\"). \\\n",
    "    addV(\"person\").property(\"name\", \"Fernanda\").as_(\"fernanda\"). \\\n",
    "    addV(\"person\").property(\"name\", \"Gustavo\").as_(\"gustavo\"). \\\n",
    "    addV(\"person\").property(\"name\", \"Daniel\").as_(\"daniel\"). \\\n",
    "    addV(\"person\").property(\"name\", \"Joana\").as_(\"joana\"). \\\n",
    "    addV(\"person\").property(\"name\", \"Marcos\").as_(\"marcos\"). \\\n",
    "    addV(\"attraction\").property(\"title\", \"Galo\").property(\"location\", \"Recife\").as_(\"galo\"). \\\n",
    "    addV(\"attraction\").property(\"title\", \"Recife Antigo\").property(\"location\", \"Recife\").as_(\"antigo\"). \\\n",
    "    addV(\"attraction\").property(\"title\", \"A Vaidosa\").property(\"location\", \"Olinda\").as_(\"vaidosa\"). \\\n",
    "    addV(\"attraction\").property(\"title\", \"Bloco Acorda\").property(\"location\", \"Bezerros\").as_(\"bezerros\"). \\\n",
    "    addE(\"goes_to\").from_(\"betina\").to(\"galo\"). \\\n",
    "    addE(\"goes_to\").from_(\"betina\").to(\"antigo\"). \\\n",
    "    addE(\"goes_to\").from_(\"marcos\").to(\"galo\"). \\\n",
    "    addE(\"goes_to\").from_(\"marcos\").to(\"bezerros\"). \\\n",
    "    addE(\"goes_to\").from_(\"fernanda\").to(\"galo\"). \\\n",
    "    addE(\"goes_to\").from_(\"fernanda\").to(\"vaidosa\"). \\\n",
    "    addE(\"goes_to\").from_(\"gustavo\").to(\"galo\"). \\\n",
    "    addE(\"goes_to\").from_(\"daniel\").to(\"galo\"). \\\n",
    "    addE(\"goes_to\").from_(\"joana\").to(\"bezerros\"). \\\n",
    "    addE(\"goes_to\").from_(\"gustavo\").to(\"bezerros\"). \\\n",
    "    addE(\"knows\").from_(\"joana\").to(\"betina\"). \\\n",
    "    addE(\"knows\").from_(\"betina\").to(\"marcos\"). \\\n",
    "    addE(\"knows\").from_(\"betina\").to(\"fernanda\"). \\\n",
    "    addE(\"knows\").from_(\"gustavo\").to(\"joana\"). \\\n",
    "    addE(\"knows\").from_(\"marcos\").to(\"gustavo\"). \\\n",
    "    addE(\"knows\").from_(\"daniel\").to(\"marcos\"). \\\n",
    "    addE(\"knows\").from_(\"daniel\").to(\"betina\"). \\\n",
    "    iterate()"
   ]
  },
  {
   "cell_type": "code",
   "execution_count": 4,
   "metadata": {},
   "outputs": [
    {
     "data": {
      "text/plain": [
       "[v[8384],\n",
       " v[40964176],\n",
       " v[40964344],\n",
       " v[4256],\n",
       " v[8320],\n",
       " v[40968440],\n",
       " v[4304],\n",
       " v[4272],\n",
       " v[4264],\n",
       " v[4216],\n",
       " v[40964168],\n",
       " v[4328],\n",
       " v[40964216],\n",
       " v[4224],\n",
       " v[4288],\n",
       " v[40964328],\n",
       " v[40964256],\n",
       " v[40972536]]"
      ]
     },
     "execution_count": 4,
     "metadata": {},
     "output_type": "execute_result"
    }
   ],
   "source": [
    "g.V().hasLabel(\"person\").toList()"
   ]
  },
  {
   "cell_type": "markdown",
   "metadata": {},
   "source": [
    "Como consultamos um vértice usando uma propriedade que a gente já sabe?"
   ]
  },
  {
   "cell_type": "code",
   "execution_count": 6,
   "metadata": {},
   "outputs": [
    {
     "data": {
      "text/plain": [
       "{'name': ['Betina']}"
      ]
     },
     "execution_count": 6,
     "metadata": {},
     "output_type": "execute_result"
    }
   ],
   "source": [
    "g.V().has(\"name\", \"Betina\").valueMap().next()"
   ]
  },
  {
   "cell_type": "markdown",
   "metadata": {},
   "source": [
    "Quem são os amigos de Betina?"
   ]
  },
  {
   "cell_type": "code",
   "execution_count": 9,
   "metadata": {},
   "outputs": [
    {
     "data": {
      "text/plain": [
       "['Marcos', 'Marcos', 'Marcos', 'Fernanda', 'Fernanda', 'Fernanda']"
      ]
     },
     "execution_count": 9,
     "metadata": {},
     "output_type": "execute_result"
    }
   ],
   "source": [
    "g.V().has(\"name\", \"Betina\").out(\"knows\").values(\"name\").toList()"
   ]
  },
  {
   "cell_type": "markdown",
   "metadata": {},
   "source": [
    "Quantos vértices temos no banco?"
   ]
  },
  {
   "cell_type": "code",
   "execution_count": 7,
   "metadata": {},
   "outputs": [
    {
     "data": {
      "text/plain": [
       "10"
      ]
     },
     "execution_count": 7,
     "metadata": {},
     "output_type": "execute_result"
    }
   ],
   "source": [
    "g.V().count().next()"
   ]
  },
  {
   "cell_type": "markdown",
   "metadata": {},
   "source": [
    "Quantas arestas temos no banco?"
   ]
  },
  {
   "cell_type": "code",
   "execution_count": 8,
   "metadata": {},
   "outputs": [
    {
     "data": {
      "text/plain": [
       "17"
      ]
     },
     "execution_count": 8,
     "metadata": {},
     "output_type": "execute_result"
    }
   ],
   "source": [
    "g.E().count().next()"
   ]
  },
  {
   "cell_type": "markdown",
   "metadata": {},
   "source": [
    "Quais são as festas que temos no banco?"
   ]
  },
  {
   "cell_type": "code",
   "execution_count": 9,
   "metadata": {},
   "outputs": [
    {
     "data": {
      "text/plain": [
       "['Bloco Acorda', 'Galo', 'Recife Antigo', 'A Vaidosa']"
      ]
     },
     "execution_count": 9,
     "metadata": {},
     "output_type": "execute_result"
    }
   ],
   "source": [
    "g.V().hasLabel(\"attraction\").values(\"title\").toList()"
   ]
  },
  {
   "cell_type": "markdown",
   "metadata": {},
   "source": [
    "Quantas pessoas vão pra cada uma das festas?"
   ]
  },
  {
   "cell_type": "code",
   "execution_count": 10,
   "metadata": {},
   "outputs": [
    {
     "data": {
      "text/plain": [
       "[{'bloco': 'Galo', 'total_people': 5},\n",
       " {'bloco': 'Bloco Acorda', 'total_people': 3},\n",
       " {'bloco': 'Recife Antigo', 'total_people': 1},\n",
       " {'bloco': 'A Vaidosa', 'total_people': 1}]"
      ]
     },
     "execution_count": 10,
     "metadata": {},
     "output_type": "execute_result"
    }
   ],
   "source": [
    "g.V().hasLabel(\"attraction\").as_(\"bloco\", \"total_people\"). \\\n",
    "    select(\"bloco\", \"total_people\"). \\\n",
    "        by(\"title\"). \\\n",
    "        by(__.inE(\"goes_to\").count()). \\\n",
    "    order().by(__.select('total_people'), Order.decr).toList()"
   ]
  },
  {
   "cell_type": "markdown",
   "metadata": {},
   "source": [
    "Quem se conhece e tá indo pra mesma festa?"
   ]
  },
  {
   "cell_type": "code",
   "execution_count": 11,
   "metadata": {},
   "outputs": [
    {
     "data": {
      "text/plain": [
       "[{'a': 'Marcos', 'b': 'Gustavo', 'event': 'Bloco Acorda'},\n",
       " {'a': 'Marcos', 'b': 'Gustavo', 'event': 'Galo'},\n",
       " {'a': 'Gustavo', 'b': 'Joana', 'event': 'Bloco Acorda'},\n",
       " {'a': 'Daniel', 'b': 'Betina', 'event': 'Galo'},\n",
       " {'a': 'Daniel', 'b': 'Marcos', 'event': 'Galo'},\n",
       " {'a': 'Betina', 'b': 'Fernanda', 'event': 'Galo'},\n",
       " {'a': 'Betina', 'b': 'Marcos', 'event': 'Galo'}]"
      ]
     },
     "execution_count": 11,
     "metadata": {},
     "output_type": "execute_result"
    }
   ],
   "source": [
    "g.V().match(\n",
    "    __.as_(\"a\").out(\"knows\").as_(\"b\"), \\\n",
    "    __.as_(\"a\").out(\"goes_to\").as_(\"event\"), \\\n",
    "    __.as_(\"b\").out(\"goes_to\").as_(\"event\"), \\\n",
    ").select(\"a\", \"b\", \"event\").by(\"name\").by(\"name\").by(\"title\").toList()"
   ]
  },
  {
   "cell_type": "code",
   "execution_count": null,
   "metadata": {},
   "outputs": [],
   "source": []
  }
 ],
 "metadata": {
  "kernelspec": {
   "display_name": "Python 3",
   "language": "python",
   "name": "python3"
  },
  "language_info": {
   "codemirror_mode": {
    "name": "ipython",
    "version": 3
   },
   "file_extension": ".py",
   "mimetype": "text/x-python",
   "name": "python",
   "nbconvert_exporter": "python",
   "pygments_lexer": "ipython3",
   "version": "3.7.5"
  }
 },
 "nbformat": 4,
 "nbformat_minor": 4
}
